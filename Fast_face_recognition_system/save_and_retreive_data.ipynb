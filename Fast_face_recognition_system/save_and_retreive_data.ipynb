{
 "cells": [
  {
   "cell_type": "code",
   "execution_count": 1,
   "metadata": {},
   "outputs": [],
   "source": [
    "import numpy as np\n",
    "import pandas as pd\n",
    "import redis"
   ]
  },
  {
   "cell_type": "code",
   "execution_count": 2,
   "metadata": {},
   "outputs": [],
   "source": [
    "#connection to database\n",
    "#Connect to redis client\n",
    "\n",
    "hostname='redis-19868.c267.us-east-1-4.ec2.cloud.redislabs.com'\n",
    "portnumber=19868\n",
    "password='ElZFvkWqGrcayZt7SMmnmknmc9rX5nUC'\n",
    "\n",
    "r=redis.StrictRedis(host=hostname,\n",
    "                    port=portnumber,\n",
    "                    password=password)\n"
   ]
  },
  {
   "cell_type": "code",
   "execution_count": 3,
   "metadata": {},
   "outputs": [
    {
     "data": {
      "text/plain": [
       "True"
      ]
     },
     "execution_count": 3,
     "metadata": {},
     "output_type": "execute_result"
    }
   ],
   "source": [
    "r.ping()"
   ]
  },
  {
   "cell_type": "code",
   "execution_count": 4,
   "metadata": {},
   "outputs": [
    {
     "data": {
      "text/plain": [
       "[]"
      ]
     },
     "execution_count": 4,
     "metadata": {},
     "output_type": "execute_result"
    }
   ],
   "source": [
    "r.keys()"
   ]
  },
  {
   "cell_type": "code",
   "execution_count": 5,
   "metadata": {},
   "outputs": [],
   "source": [
    "#Load the data"
   ]
  },
  {
   "cell_type": "code",
   "execution_count": 5,
   "metadata": {},
   "outputs": [
    {
     "data": {
      "text/html": [
       "<div>\n",
       "<style scoped>\n",
       "    .dataframe tbody tr th:only-of-type {\n",
       "        vertical-align: middle;\n",
       "    }\n",
       "\n",
       "    .dataframe tbody tr th {\n",
       "        vertical-align: top;\n",
       "    }\n",
       "\n",
       "    .dataframe thead th {\n",
       "        text-align: right;\n",
       "    }\n",
       "</style>\n",
       "<table border=\"1\" class=\"dataframe\">\n",
       "  <thead>\n",
       "    <tr style=\"text-align: right;\">\n",
       "      <th></th>\n",
       "      <th>Name</th>\n",
       "      <th>Roll</th>\n",
       "      <th>Facial Features</th>\n",
       "    </tr>\n",
       "  </thead>\n",
       "  <tbody>\n",
       "    <tr>\n",
       "      <th>0</th>\n",
       "      <td>Aadish Jain</td>\n",
       "      <td>1001</td>\n",
       "      <td>[1.4249021, 0.5167993, 1.1065452, -0.39924377,...</td>\n",
       "    </tr>\n",
       "    <tr>\n",
       "      <th>1</th>\n",
       "      <td>Abhinav Gangil</td>\n",
       "      <td>1002</td>\n",
       "      <td>[2.5445485, 1.1459275, -0.2571401, -0.9233791,...</td>\n",
       "    </tr>\n",
       "    <tr>\n",
       "      <th>2</th>\n",
       "      <td>Aditi Wekhande</td>\n",
       "      <td>1003</td>\n",
       "      <td>[-0.15211493, 0.6594273, 0.94268084, 1.4843241...</td>\n",
       "    </tr>\n",
       "    <tr>\n",
       "      <th>3</th>\n",
       "      <td>Aditya Kshitiz</td>\n",
       "      <td>1004</td>\n",
       "      <td>[1.6784743, 0.84842515, 0.44553462, -0.7783499...</td>\n",
       "    </tr>\n",
       "    <tr>\n",
       "      <th>4</th>\n",
       "      <td>Aditya Mastud</td>\n",
       "      <td>1005</td>\n",
       "      <td>[-0.4629953, -0.071729705, -0.083244145, -0.42...</td>\n",
       "    </tr>\n",
       "    <tr>\n",
       "      <th>...</th>\n",
       "      <td>...</td>\n",
       "      <td>...</td>\n",
       "      <td>...</td>\n",
       "    </tr>\n",
       "    <tr>\n",
       "      <th>75</th>\n",
       "      <td>Vedant Upadhyay</td>\n",
       "      <td>2081</td>\n",
       "      <td>[0.68810403, -0.13327494, 0.58295095, 1.208180...</td>\n",
       "    </tr>\n",
       "    <tr>\n",
       "      <th>76</th>\n",
       "      <td>Vijit Balsori</td>\n",
       "      <td>1079</td>\n",
       "      <td>[0.83771884, 1.1717737, 0.025990069, -0.092498...</td>\n",
       "    </tr>\n",
       "    <tr>\n",
       "      <th>77</th>\n",
       "      <td>Vineet Verma</td>\n",
       "      <td>1080</td>\n",
       "      <td>[1.4692615, 2.0162005, 0.15505144, 0.8998549, ...</td>\n",
       "    </tr>\n",
       "    <tr>\n",
       "      <th>78</th>\n",
       "      <td>Votte Sriyans</td>\n",
       "      <td>1081</td>\n",
       "      <td>[0.6702863, -0.64987075, -0.3088921, 1.2300224...</td>\n",
       "    </tr>\n",
       "    <tr>\n",
       "      <th>79</th>\n",
       "      <td>Yannam Yeshwant</td>\n",
       "      <td>1082</td>\n",
       "      <td>[0.12396374, 0.18740891, 0.47579968, 0.3388660...</td>\n",
       "    </tr>\n",
       "  </tbody>\n",
       "</table>\n",
       "<p>80 rows × 3 columns</p>\n",
       "</div>"
      ],
      "text/plain": [
       "               Name  Roll                                    Facial Features\n",
       "0       Aadish Jain  1001  [1.4249021, 0.5167993, 1.1065452, -0.39924377,...\n",
       "1    Abhinav Gangil  1002  [2.5445485, 1.1459275, -0.2571401, -0.9233791,...\n",
       "2    Aditi Wekhande  1003  [-0.15211493, 0.6594273, 0.94268084, 1.4843241...\n",
       "3    Aditya Kshitiz  1004  [1.6784743, 0.84842515, 0.44553462, -0.7783499...\n",
       "4     Aditya Mastud  1005  [-0.4629953, -0.071729705, -0.083244145, -0.42...\n",
       "..              ...   ...                                                ...\n",
       "75  Vedant Upadhyay  2081  [0.68810403, -0.13327494, 0.58295095, 1.208180...\n",
       "76    Vijit Balsori  1079  [0.83771884, 1.1717737, 0.025990069, -0.092498...\n",
       "77     Vineet Verma  1080  [1.4692615, 2.0162005, 0.15505144, 0.8998549, ...\n",
       "78    Votte Sriyans  1081  [0.6702863, -0.64987075, -0.3088921, 1.2300224...\n",
       "79  Yannam Yeshwant  1082  [0.12396374, 0.18740891, 0.47579968, 0.3388660...\n",
       "\n",
       "[80 rows x 3 columns]"
      ]
     },
     "execution_count": 5,
     "metadata": {},
     "output_type": "execute_result"
    }
   ],
   "source": [
    "np_file=np.load('dataframe_students.npz',allow_pickle=True)\n",
    "x_values=np_file['arr_0']\n",
    "col_names=np_file['arr_1']\n",
    "\n",
    "df=pd.DataFrame(x_values,columns=col_names)\n",
    "df"
   ]
  },
  {
   "cell_type": "code",
   "execution_count": 6,
   "metadata": {},
   "outputs": [
    {
     "data": {
      "text/html": [
       "<div>\n",
       "<style scoped>\n",
       "    .dataframe tbody tr th:only-of-type {\n",
       "        vertical-align: middle;\n",
       "    }\n",
       "\n",
       "    .dataframe tbody tr th {\n",
       "        vertical-align: top;\n",
       "    }\n",
       "\n",
       "    .dataframe thead th {\n",
       "        text-align: right;\n",
       "    }\n",
       "</style>\n",
       "<table border=\"1\" class=\"dataframe\">\n",
       "  <thead>\n",
       "    <tr style=\"text-align: right;\">\n",
       "      <th></th>\n",
       "      <th>Name</th>\n",
       "      <th>Roll</th>\n",
       "      <th>Facial Features</th>\n",
       "      <th>name_roll</th>\n",
       "    </tr>\n",
       "  </thead>\n",
       "  <tbody>\n",
       "    <tr>\n",
       "      <th>0</th>\n",
       "      <td>Aadish Jain</td>\n",
       "      <td>1001</td>\n",
       "      <td>[1.4249021, 0.5167993, 1.1065452, -0.39924377,...</td>\n",
       "      <td>Aadish Jain@1001</td>\n",
       "    </tr>\n",
       "    <tr>\n",
       "      <th>1</th>\n",
       "      <td>Abhinav Gangil</td>\n",
       "      <td>1002</td>\n",
       "      <td>[2.5445485, 1.1459275, -0.2571401, -0.9233791,...</td>\n",
       "      <td>Abhinav Gangil@1002</td>\n",
       "    </tr>\n",
       "    <tr>\n",
       "      <th>2</th>\n",
       "      <td>Aditi Wekhande</td>\n",
       "      <td>1003</td>\n",
       "      <td>[-0.15211493, 0.6594273, 0.94268084, 1.4843241...</td>\n",
       "      <td>Aditi Wekhande@1003</td>\n",
       "    </tr>\n",
       "    <tr>\n",
       "      <th>3</th>\n",
       "      <td>Aditya Kshitiz</td>\n",
       "      <td>1004</td>\n",
       "      <td>[1.6784743, 0.84842515, 0.44553462, -0.7783499...</td>\n",
       "      <td>Aditya Kshitiz@1004</td>\n",
       "    </tr>\n",
       "    <tr>\n",
       "      <th>4</th>\n",
       "      <td>Aditya Mastud</td>\n",
       "      <td>1005</td>\n",
       "      <td>[-0.4629953, -0.071729705, -0.083244145, -0.42...</td>\n",
       "      <td>Aditya Mastud@1005</td>\n",
       "    </tr>\n",
       "    <tr>\n",
       "      <th>...</th>\n",
       "      <td>...</td>\n",
       "      <td>...</td>\n",
       "      <td>...</td>\n",
       "      <td>...</td>\n",
       "    </tr>\n",
       "    <tr>\n",
       "      <th>75</th>\n",
       "      <td>Vedant Upadhyay</td>\n",
       "      <td>2081</td>\n",
       "      <td>[0.68810403, -0.13327494, 0.58295095, 1.208180...</td>\n",
       "      <td>Vedant Upadhyay@2081</td>\n",
       "    </tr>\n",
       "    <tr>\n",
       "      <th>76</th>\n",
       "      <td>Vijit Balsori</td>\n",
       "      <td>1079</td>\n",
       "      <td>[0.83771884, 1.1717737, 0.025990069, -0.092498...</td>\n",
       "      <td>Vijit Balsori@1079</td>\n",
       "    </tr>\n",
       "    <tr>\n",
       "      <th>77</th>\n",
       "      <td>Vineet Verma</td>\n",
       "      <td>1080</td>\n",
       "      <td>[1.4692615, 2.0162005, 0.15505144, 0.8998549, ...</td>\n",
       "      <td>Vineet Verma@1080</td>\n",
       "    </tr>\n",
       "    <tr>\n",
       "      <th>78</th>\n",
       "      <td>Votte Sriyans</td>\n",
       "      <td>1081</td>\n",
       "      <td>[0.6702863, -0.64987075, -0.3088921, 1.2300224...</td>\n",
       "      <td>Votte Sriyans@1081</td>\n",
       "    </tr>\n",
       "    <tr>\n",
       "      <th>79</th>\n",
       "      <td>Yannam Yeshwant</td>\n",
       "      <td>1082</td>\n",
       "      <td>[0.12396374, 0.18740891, 0.47579968, 0.3388660...</td>\n",
       "      <td>Yannam Yeshwant@1082</td>\n",
       "    </tr>\n",
       "  </tbody>\n",
       "</table>\n",
       "<p>80 rows × 4 columns</p>\n",
       "</div>"
      ],
      "text/plain": [
       "               Name  Roll                                    Facial Features  \\\n",
       "0       Aadish Jain  1001  [1.4249021, 0.5167993, 1.1065452, -0.39924377,...   \n",
       "1    Abhinav Gangil  1002  [2.5445485, 1.1459275, -0.2571401, -0.9233791,...   \n",
       "2    Aditi Wekhande  1003  [-0.15211493, 0.6594273, 0.94268084, 1.4843241...   \n",
       "3    Aditya Kshitiz  1004  [1.6784743, 0.84842515, 0.44553462, -0.7783499...   \n",
       "4     Aditya Mastud  1005  [-0.4629953, -0.071729705, -0.083244145, -0.42...   \n",
       "..              ...   ...                                                ...   \n",
       "75  Vedant Upadhyay  2081  [0.68810403, -0.13327494, 0.58295095, 1.208180...   \n",
       "76    Vijit Balsori  1079  [0.83771884, 1.1717737, 0.025990069, -0.092498...   \n",
       "77     Vineet Verma  1080  [1.4692615, 2.0162005, 0.15505144, 0.8998549, ...   \n",
       "78    Votte Sriyans  1081  [0.6702863, -0.64987075, -0.3088921, 1.2300224...   \n",
       "79  Yannam Yeshwant  1082  [0.12396374, 0.18740891, 0.47579968, 0.3388660...   \n",
       "\n",
       "               name_roll  \n",
       "0       Aadish Jain@1001  \n",
       "1    Abhinav Gangil@1002  \n",
       "2    Aditi Wekhande@1003  \n",
       "3    Aditya Kshitiz@1004  \n",
       "4     Aditya Mastud@1005  \n",
       "..                   ...  \n",
       "75  Vedant Upadhyay@2081  \n",
       "76    Vijit Balsori@1079  \n",
       "77     Vineet Verma@1080  \n",
       "78    Votte Sriyans@1081  \n",
       "79  Yannam Yeshwant@1082  \n",
       "\n",
       "[80 rows x 4 columns]"
      ]
     },
     "execution_count": 6,
     "metadata": {},
     "output_type": "execute_result"
    }
   ],
   "source": [
    "df['name_roll']=df['Name']+'@'+df['Roll']\n",
    "df"
   ]
  },
  {
   "cell_type": "code",
   "execution_count": 7,
   "metadata": {},
   "outputs": [
    {
     "data": {
      "text/plain": [
       "80"
      ]
     },
     "execution_count": 7,
     "metadata": {},
     "output_type": "execute_result"
    }
   ],
   "source": [
    "records=df[['name_roll','Facial Features']].to_dict(orient='records')\n",
    "len(records)"
   ]
  },
  {
   "cell_type": "code",
   "execution_count": 8,
   "metadata": {},
   "outputs": [],
   "source": [
    "#save data in redis\n",
    "#use redis hashes"
   ]
  },
  {
   "cell_type": "code",
   "execution_count": 9,
   "metadata": {},
   "outputs": [],
   "source": [
    "for record in records:\n",
    "    name_roll=record['name_roll']\n",
    "    vector=record['Facial Features']\n",
    "\n",
    "    #convert numpy array to bytes\n",
    "    vector_bytes=vector.tobytes()\n",
    "    r.hset(name='class:register',key=name_roll,value=vector_bytes)"
   ]
  },
  {
   "cell_type": "code",
   "execution_count": null,
   "metadata": {},
   "outputs": [],
   "source": []
  }
 ],
 "metadata": {
  "kernelspec": {
   "display_name": "attendance_system",
   "language": "python",
   "name": "python3"
  },
  "language_info": {
   "codemirror_mode": {
    "name": "ipython",
    "version": 3
   },
   "file_extension": ".py",
   "mimetype": "text/x-python",
   "name": "python",
   "nbconvert_exporter": "python",
   "pygments_lexer": "ipython3",
   "version": "3.10.7"
  }
 },
 "nbformat": 4,
 "nbformat_minor": 2
}
