{
 "cells": [
  {
   "cell_type": "code",
   "execution_count": 1,
   "id": "9900187a-6dc1-471b-89ef-4fadb3cf6fec",
   "metadata": {},
   "outputs": [],
   "source": [
    "import os\n",
    "import cv2\n",
    "import numpy as np\n",
    "import pandas as pd\n",
    "\n",
    "from insightface.app import FaceAnalysis"
   ]
  },
  {
   "cell_type": "code",
   "execution_count": 4,
   "id": "df75a8ed-76c8-4c93-82d6-fb51bbde5c92",
   "metadata": {},
   "outputs": [
    {
     "name": "stdout",
     "output_type": "stream",
     "text": [
      "Applied providers: ['CPUExecutionProvider'], with options: {'CPUExecutionProvider': {}}\n",
      "find model: insightface_model\\models\\buffalo_l\\1k3d68.onnx landmark_3d_68 ['None', 3, 192, 192] 0.0 1.0\n",
      "Applied providers: ['CPUExecutionProvider'], with options: {'CPUExecutionProvider': {}}\n",
      "find model: insightface_model\\models\\buffalo_l\\2d106det.onnx landmark_2d_106 ['None', 3, 192, 192] 0.0 1.0\n",
      "Applied providers: ['CPUExecutionProvider'], with options: {'CPUExecutionProvider': {}}\n",
      "find model: insightface_model\\models\\buffalo_l\\det_10g.onnx detection [1, 3, '?', '?'] 127.5 128.0\n",
      "Applied providers: ['CPUExecutionProvider'], with options: {'CPUExecutionProvider': {}}\n",
      "find model: insightface_model\\models\\buffalo_l\\genderage.onnx genderage ['None', 3, 96, 96] 0.0 1.0\n",
      "Applied providers: ['CPUExecutionProvider'], with options: {'CPUExecutionProvider': {}}\n",
      "find model: insightface_model\\models\\buffalo_l\\w600k_r50.onnx recognition ['None', 3, 112, 112] 127.5 127.5\n",
      "set det-size: (640, 640)\n"
     ]
    }
   ],
   "source": [
    "#configure face analysis\n",
    "faceapp=FaceAnalysis(name='buffalo_l',\n",
    "                     root='insightface_model',\n",
    "                     providers=['CPUExecutionProvider'])\n",
    "faceapp.prepare(ctx_id=0,det_size=(640,640),det_thresh=0.5)"
   ]
  },
  {
   "cell_type": "code",
   "execution_count": 5,
   "id": "a9b6f1df-87c9-4544-b847-5de4797557b9",
   "metadata": {},
   "outputs": [],
   "source": [
    "#Extract Facial Features"
   ]
  },
  {
   "cell_type": "code",
   "execution_count": 6,
   "id": "58a36fef-5b7e-482f-b143-842e716c3182",
   "metadata": {},
   "outputs": [
    {
     "name": "stderr",
     "output_type": "stream",
     "text": [
      "d:\\face_detection_project\\attendance_system1\\lib\\site-packages\\insightface\\utils\\transform.py:68: FutureWarning: `rcond` parameter will change to the default of machine precision times ``max(M, N)`` where M and N are the input matrix dimensions.\n",
      "To use the future default and silence this warning we advise to pass `rcond=None`, to keep using the old, explicitly pass `rcond=-1`.\n",
      "  P = np.linalg.lstsq(X_homo, Y)[0].T # Affine matrix. 3 x 4\n"
     ]
    }
   ],
   "source": [
    "person_info=[]\n",
    "listdir=os.listdir(path='images')\n",
    "for folder_name in listdir:\n",
    "    roll,name=folder_name.split('-')\n",
    "\n",
    "    #path of each image in respective folder\n",
    "    img_files=os.listdir(path=f'images/{folder_name}')\n",
    "    for file in img_files:\n",
    "        path=f'./images/{folder_name}/{file}'\n",
    "        #step-1: read the images\n",
    "        img_arr=cv2.imread(path)\n",
    "\n",
    "        #step-2: get the info\n",
    "        result=faceapp.get(img_arr,max_num=1)#return list\n",
    "        if len(result)>0:\n",
    "            #step-3: extract facial embedding\n",
    "            res=result[0]\n",
    "            embedding=res['embedding']\n",
    "            #step-4 :save all info name,role,embedding in a list\n",
    "            person_info.append([name,roll,embedding])"
   ]
  },
  {
   "cell_type": "code",
   "execution_count": 4,
   "id": "a470e1d8-78ef-49ea-8c94-620717f71c78",
   "metadata": {},
   "outputs": [
    {
     "data": {
      "text/html": [
       "<div>\n",
       "<style scoped>\n",
       "    .dataframe tbody tr th:only-of-type {\n",
       "        vertical-align: middle;\n",
       "    }\n",
       "\n",
       "    .dataframe tbody tr th {\n",
       "        vertical-align: top;\n",
       "    }\n",
       "\n",
       "    .dataframe thead th {\n",
       "        text-align: right;\n",
       "    }\n",
       "</style>\n",
       "<table border=\"1\" class=\"dataframe\">\n",
       "  <thead>\n",
       "    <tr style=\"text-align: right;\">\n",
       "      <th></th>\n",
       "      <th>Name</th>\n",
       "      <th>Roll</th>\n",
       "      <th>Facial Features</th>\n",
       "    </tr>\n",
       "  </thead>\n",
       "  <tbody>\n",
       "    <tr>\n",
       "      <th>0</th>\n",
       "      <td>Aadish Jain</td>\n",
       "      <td>1001</td>\n",
       "      <td>[1.4249021, 0.5167993, 1.1065452, -0.39924377,...</td>\n",
       "    </tr>\n",
       "    <tr>\n",
       "      <th>1</th>\n",
       "      <td>Abhinav Gangil</td>\n",
       "      <td>1002</td>\n",
       "      <td>[2.5445485, 1.1459275, -0.2571401, -0.9233791,...</td>\n",
       "    </tr>\n",
       "    <tr>\n",
       "      <th>2</th>\n",
       "      <td>Aditi Wekhande</td>\n",
       "      <td>1003</td>\n",
       "      <td>[-0.275513, 0.6747664, 1.3501925, 1.6961875, -...</td>\n",
       "    </tr>\n",
       "    <tr>\n",
       "      <th>3</th>\n",
       "      <td>Aditi Wekhande</td>\n",
       "      <td>1003</td>\n",
       "      <td>[-0.028716847, 0.64408815, 0.5351691, 1.272460...</td>\n",
       "    </tr>\n",
       "    <tr>\n",
       "      <th>4</th>\n",
       "      <td>Aditya Kshitiz</td>\n",
       "      <td>1004</td>\n",
       "      <td>[2.080579, 0.93143797, 0.7777846, -0.6473296, ...</td>\n",
       "    </tr>\n",
       "    <tr>\n",
       "      <th>...</th>\n",
       "      <td>...</td>\n",
       "      <td>...</td>\n",
       "      <td>...</td>\n",
       "    </tr>\n",
       "    <tr>\n",
       "      <th>118</th>\n",
       "      <td>Borra Gnana</td>\n",
       "      <td>2029</td>\n",
       "      <td>[-0.7547005, 0.68525684, 0.27340716, 0.6212193...</td>\n",
       "    </tr>\n",
       "    <tr>\n",
       "      <th>119</th>\n",
       "      <td>Prasad Akanksha</td>\n",
       "      <td>2063</td>\n",
       "      <td>[-1.0330994, 1.0762423, -0.025145084, 0.598768...</td>\n",
       "    </tr>\n",
       "    <tr>\n",
       "      <th>120</th>\n",
       "      <td>Prasad Akanksha</td>\n",
       "      <td>2063</td>\n",
       "      <td>[-0.7762105, 0.9452677, -1.2732902, 0.31856424...</td>\n",
       "    </tr>\n",
       "    <tr>\n",
       "      <th>121</th>\n",
       "      <td>Vedant Upadhyay</td>\n",
       "      <td>2081</td>\n",
       "      <td>[1.2258575, -0.52781576, 0.51487553, 1.1033506...</td>\n",
       "    </tr>\n",
       "    <tr>\n",
       "      <th>122</th>\n",
       "      <td>Vedant Upadhyay</td>\n",
       "      <td>2081</td>\n",
       "      <td>[0.15035063, 0.26126587, 0.65102637, 1.3130103...</td>\n",
       "    </tr>\n",
       "  </tbody>\n",
       "</table>\n",
       "<p>123 rows × 3 columns</p>\n",
       "</div>"
      ],
      "text/plain": [
       "                Name  Roll                                    Facial Features\n",
       "0        Aadish Jain  1001  [1.4249021, 0.5167993, 1.1065452, -0.39924377,...\n",
       "1     Abhinav Gangil  1002  [2.5445485, 1.1459275, -0.2571401, -0.9233791,...\n",
       "2     Aditi Wekhande  1003  [-0.275513, 0.6747664, 1.3501925, 1.6961875, -...\n",
       "3     Aditi Wekhande  1003  [-0.028716847, 0.64408815, 0.5351691, 1.272460...\n",
       "4     Aditya Kshitiz  1004  [2.080579, 0.93143797, 0.7777846, -0.6473296, ...\n",
       "..               ...   ...                                                ...\n",
       "118      Borra Gnana  2029  [-0.7547005, 0.68525684, 0.27340716, 0.6212193...\n",
       "119  Prasad Akanksha  2063  [-1.0330994, 1.0762423, -0.025145084, 0.598768...\n",
       "120  Prasad Akanksha  2063  [-0.7762105, 0.9452677, -1.2732902, 0.31856424...\n",
       "121  Vedant Upadhyay  2081  [1.2258575, -0.52781576, 0.51487553, 1.1033506...\n",
       "122  Vedant Upadhyay  2081  [0.15035063, 0.26126587, 0.65102637, 1.3130103...\n",
       "\n",
       "[123 rows x 3 columns]"
      ]
     },
     "execution_count": 4,
     "metadata": {},
     "output_type": "execute_result"
    }
   ],
   "source": [
    "dataframe=pd.DataFrame(person_info,columns=['Name','Roll','Facial Features'])\n",
    "dataframe #store in redis database"
   ]
  },
  {
   "cell_type": "code",
   "execution_count": 5,
   "id": "60320419-40c7-4011-be62-fcc6472f7541",
   "metadata": {},
   "outputs": [],
   "source": [
    "img=cv2.imread('test_images/test1.jpg')\n",
    "cv2.imshow(\"test\",img)\n",
    "cv2.waitKey(0)\n",
    "cv2.destroyAllWindows()"
   ]
  },
  {
   "cell_type": "code",
   "execution_count": 3,
   "id": "a71d76d5-1b46-414e-8f13-c5679ff4a0fe",
   "metadata": {},
   "outputs": [
    {
     "ename": "NameError",
     "evalue": "name 'img' is not defined",
     "output_type": "error",
     "traceback": [
      "\u001b[1;31m---------------------------------------------------------------------------\u001b[0m",
      "\u001b[1;31mNameError\u001b[0m                                 Traceback (most recent call last)",
      "\u001b[1;32md:\\face_detection_project\\Fast_face_recognition_system\\2Fast_face_recog.ipynb Cell 7\u001b[0m line \u001b[0;36m1\n\u001b[1;32m----> <a href='vscode-notebook-cell:/d%3A/face_detection_project/Fast_face_recognition_system/2Fast_face_recog.ipynb#W6sZmlsZQ%3D%3D?line=0'>1</a>\u001b[0m res_test\u001b[39m=\u001b[39mfaceapp\u001b[39m.\u001b[39mget(img,max_num\u001b[39m=\u001b[39m\u001b[39m0\u001b[39m)\n\u001b[0;32m      <a href='vscode-notebook-cell:/d%3A/face_detection_project/Fast_face_recognition_system/2Fast_face_recog.ipynb#W6sZmlsZQ%3D%3D?line=1'>2</a>\u001b[0m \u001b[39mfor\u001b[39;00m rt \u001b[39min\u001b[39;00m res_test:\n\u001b[0;32m      <a href='vscode-notebook-cell:/d%3A/face_detection_project/Fast_face_recognition_system/2Fast_face_recog.ipynb#W6sZmlsZQ%3D%3D?line=2'>3</a>\u001b[0m     bbox\u001b[39m=\u001b[39mrt[\u001b[39m'\u001b[39m\u001b[39mbbox\u001b[39m\u001b[39m'\u001b[39m]\u001b[39m.\u001b[39mastype(\u001b[39mint\u001b[39m)\n",
      "\u001b[1;31mNameError\u001b[0m: name 'img' is not defined"
     ]
    }
   ],
   "source": [
    "res_test=faceapp.get(img,max_num=0)\n",
    "for rt in res_test:\n",
    "    bbox=rt['bbox'].astype(int)\n",
    "    score=int(rt['det_score']*100)\n",
    "    embed_test=rt['embedding']"
   ]
  },
  {
   "cell_type": "code",
   "execution_count": 7,
   "id": "00c745f8-e29c-4c46-b413-89a8ebc7e888",
   "metadata": {},
   "outputs": [
    {
     "data": {
      "text/plain": [
       "512"
      ]
     },
     "execution_count": 7,
     "metadata": {},
     "output_type": "execute_result"
    }
   ],
   "source": [
    "len(embed_test)"
   ]
  },
  {
   "cell_type": "code",
   "execution_count": 8,
   "id": "fea9c716-16e1-479e-b473-37dce133c97d",
   "metadata": {},
   "outputs": [],
   "source": [
    "x_list=dataframe['Facial Features'].tolist()\n",
    "x=np.asarray(x_list)"
   ]
  },
  {
   "cell_type": "code",
   "execution_count": 9,
   "id": "c5943d5e-6dc8-4bed-b4f5-7c37bf2242ba",
   "metadata": {},
   "outputs": [
    {
     "data": {
      "text/plain": [
       "(123, 512)"
      ]
     },
     "execution_count": 9,
     "metadata": {},
     "output_type": "execute_result"
    }
   ],
   "source": [
    "x.shape"
   ]
  },
  {
   "cell_type": "code",
   "execution_count": 10,
   "id": "959923a6-df37-4e61-9716-5529f71e81c5",
   "metadata": {},
   "outputs": [],
   "source": [
    "from sklearn.metrics import pairwise"
   ]
  },
  {
   "cell_type": "code",
   "execution_count": 11,
   "id": "432855af-394b-4609-abb8-a52d26bfc7a7",
   "metadata": {},
   "outputs": [],
   "source": [
    "y=embed_test.reshape(1,512) #1*512\n",
    "\n",
    "cosine_similar=pairwise.cosine_similarity(x,y)"
   ]
  },
  {
   "cell_type": "code",
   "execution_count": 12,
   "id": "0369e3d9-c4e2-461d-ad8b-75b1908e8941",
   "metadata": {},
   "outputs": [],
   "source": [
    "data_search=dataframe.copy()\n",
    "data_search['cosine']=cosine_similar"
   ]
  },
  {
   "cell_type": "code",
   "execution_count": 13,
   "id": "6d72f2b6-ff87-46cc-9c55-c82499a6f51e",
   "metadata": {},
   "outputs": [
    {
     "data": {
      "text/html": [
       "<div>\n",
       "<style scoped>\n",
       "    .dataframe tbody tr th:only-of-type {\n",
       "        vertical-align: middle;\n",
       "    }\n",
       "\n",
       "    .dataframe tbody tr th {\n",
       "        vertical-align: top;\n",
       "    }\n",
       "\n",
       "    .dataframe thead th {\n",
       "        text-align: right;\n",
       "    }\n",
       "</style>\n",
       "<table border=\"1\" class=\"dataframe\">\n",
       "  <thead>\n",
       "    <tr style=\"text-align: right;\">\n",
       "      <th></th>\n",
       "      <th>Name</th>\n",
       "      <th>Roll</th>\n",
       "      <th>Facial Features</th>\n",
       "      <th>cosine</th>\n",
       "    </tr>\n",
       "  </thead>\n",
       "  <tbody>\n",
       "    <tr>\n",
       "      <th>0</th>\n",
       "      <td>Aadish Jain</td>\n",
       "      <td>1001</td>\n",
       "      <td>[1.4249021, 0.5167993, 1.1065452, -0.39924377,...</td>\n",
       "      <td>0.134133</td>\n",
       "    </tr>\n",
       "    <tr>\n",
       "      <th>1</th>\n",
       "      <td>Abhinav Gangil</td>\n",
       "      <td>1002</td>\n",
       "      <td>[2.5445485, 1.1459275, -0.2571401, -0.9233791,...</td>\n",
       "      <td>0.184990</td>\n",
       "    </tr>\n",
       "    <tr>\n",
       "      <th>2</th>\n",
       "      <td>Aditi Wekhande</td>\n",
       "      <td>1003</td>\n",
       "      <td>[-0.275513, 0.6747664, 1.3501925, 1.6961875, -...</td>\n",
       "      <td>0.092489</td>\n",
       "    </tr>\n",
       "    <tr>\n",
       "      <th>3</th>\n",
       "      <td>Aditi Wekhande</td>\n",
       "      <td>1003</td>\n",
       "      <td>[-0.028716847, 0.64408815, 0.5351691, 1.272460...</td>\n",
       "      <td>0.076152</td>\n",
       "    </tr>\n",
       "    <tr>\n",
       "      <th>4</th>\n",
       "      <td>Aditya Kshitiz</td>\n",
       "      <td>1004</td>\n",
       "      <td>[2.080579, 0.93143797, 0.7777846, -0.6473296, ...</td>\n",
       "      <td>0.084487</td>\n",
       "    </tr>\n",
       "    <tr>\n",
       "      <th>...</th>\n",
       "      <td>...</td>\n",
       "      <td>...</td>\n",
       "      <td>...</td>\n",
       "      <td>...</td>\n",
       "    </tr>\n",
       "    <tr>\n",
       "      <th>118</th>\n",
       "      <td>Borra Gnana</td>\n",
       "      <td>2029</td>\n",
       "      <td>[-0.7547005, 0.68525684, 0.27340716, 0.6212193...</td>\n",
       "      <td>0.056576</td>\n",
       "    </tr>\n",
       "    <tr>\n",
       "      <th>119</th>\n",
       "      <td>Prasad Akanksha</td>\n",
       "      <td>2063</td>\n",
       "      <td>[-1.0330994, 1.0762423, -0.025145084, 0.598768...</td>\n",
       "      <td>0.119297</td>\n",
       "    </tr>\n",
       "    <tr>\n",
       "      <th>120</th>\n",
       "      <td>Prasad Akanksha</td>\n",
       "      <td>2063</td>\n",
       "      <td>[-0.7762105, 0.9452677, -1.2732902, 0.31856424...</td>\n",
       "      <td>0.100708</td>\n",
       "    </tr>\n",
       "    <tr>\n",
       "      <th>121</th>\n",
       "      <td>Vedant Upadhyay</td>\n",
       "      <td>2081</td>\n",
       "      <td>[1.2258575, -0.52781576, 0.51487553, 1.1033506...</td>\n",
       "      <td>0.751585</td>\n",
       "    </tr>\n",
       "    <tr>\n",
       "      <th>122</th>\n",
       "      <td>Vedant Upadhyay</td>\n",
       "      <td>2081</td>\n",
       "      <td>[0.15035063, 0.26126587, 0.65102637, 1.3130103...</td>\n",
       "      <td>0.777796</td>\n",
       "    </tr>\n",
       "  </tbody>\n",
       "</table>\n",
       "<p>123 rows × 4 columns</p>\n",
       "</div>"
      ],
      "text/plain": [
       "                Name  Roll                                    Facial Features  \\\n",
       "0        Aadish Jain  1001  [1.4249021, 0.5167993, 1.1065452, -0.39924377,...   \n",
       "1     Abhinav Gangil  1002  [2.5445485, 1.1459275, -0.2571401, -0.9233791,...   \n",
       "2     Aditi Wekhande  1003  [-0.275513, 0.6747664, 1.3501925, 1.6961875, -...   \n",
       "3     Aditi Wekhande  1003  [-0.028716847, 0.64408815, 0.5351691, 1.272460...   \n",
       "4     Aditya Kshitiz  1004  [2.080579, 0.93143797, 0.7777846, -0.6473296, ...   \n",
       "..               ...   ...                                                ...   \n",
       "118      Borra Gnana  2029  [-0.7547005, 0.68525684, 0.27340716, 0.6212193...   \n",
       "119  Prasad Akanksha  2063  [-1.0330994, 1.0762423, -0.025145084, 0.598768...   \n",
       "120  Prasad Akanksha  2063  [-0.7762105, 0.9452677, -1.2732902, 0.31856424...   \n",
       "121  Vedant Upadhyay  2081  [1.2258575, -0.52781576, 0.51487553, 1.1033506...   \n",
       "122  Vedant Upadhyay  2081  [0.15035063, 0.26126587, 0.65102637, 1.3130103...   \n",
       "\n",
       "       cosine  \n",
       "0    0.134133  \n",
       "1    0.184990  \n",
       "2    0.092489  \n",
       "3    0.076152  \n",
       "4    0.084487  \n",
       "..        ...  \n",
       "118  0.056576  \n",
       "119  0.119297  \n",
       "120  0.100708  \n",
       "121  0.751585  \n",
       "122  0.777796  \n",
       "\n",
       "[123 rows x 4 columns]"
      ]
     },
     "execution_count": 13,
     "metadata": {},
     "output_type": "execute_result"
    }
   ],
   "source": [
    "data_search"
   ]
  },
  {
   "cell_type": "code",
   "execution_count": 14,
   "id": "02ab0b54-e714-40e7-8632-6bf95f56b31b",
   "metadata": {},
   "outputs": [],
   "source": [
    "s_opt=0.5"
   ]
  },
  {
   "cell_type": "code",
   "execution_count": 15,
   "id": "73ebda60-c791-45e5-9e64-7fe7092a2c69",
   "metadata": {},
   "outputs": [],
   "source": [
    "datafilter=data_search.query(f'cosine>{s_opt}')\n",
    "datafilter.reset_index(drop=True,inplace=True)\n",
    "\n",
    "if len(datafilter)>0:\n",
    "    argmax=datafilter['cosine'].argmax()\n",
    "    name_cos,roll_cos=datafilter.loc[argmax][['Name','Roll']]\n",
    "else:\n",
    "    name_cos='Unknown'\n",
    "    role_cos='Unknown'\n"
   ]
  },
  {
   "cell_type": "code",
   "execution_count": 16,
   "id": "1fecb28a-d229-4b14-9d38-7bdbffe9cb1b",
   "metadata": {},
   "outputs": [
    {
     "name": "stdout",
     "output_type": "stream",
     "text": [
      "Vedant Upadhyay 2081\n"
     ]
    }
   ],
   "source": [
    "print(name_cos,roll_cos)"
   ]
  },
  {
   "cell_type": "code",
   "execution_count": 17,
   "id": "e5340c4d-3c18-4947-b0ff-b1a2b872c154",
   "metadata": {},
   "outputs": [
    {
     "data": {
      "text/html": [
       "<div>\n",
       "<style scoped>\n",
       "    .dataframe tbody tr th:only-of-type {\n",
       "        vertical-align: middle;\n",
       "    }\n",
       "\n",
       "    .dataframe tbody tr th {\n",
       "        vertical-align: top;\n",
       "    }\n",
       "\n",
       "    .dataframe thead th {\n",
       "        text-align: right;\n",
       "    }\n",
       "</style>\n",
       "<table border=\"1\" class=\"dataframe\">\n",
       "  <thead>\n",
       "    <tr style=\"text-align: right;\">\n",
       "      <th></th>\n",
       "      <th>Name</th>\n",
       "      <th>Roll</th>\n",
       "      <th>Facial Features</th>\n",
       "      <th>cosine</th>\n",
       "    </tr>\n",
       "  </thead>\n",
       "  <tbody>\n",
       "    <tr>\n",
       "      <th>0</th>\n",
       "      <td>Vedant Upadhyay</td>\n",
       "      <td>2081</td>\n",
       "      <td>[1.2258575, -0.52781576, 0.51487553, 1.1033506...</td>\n",
       "      <td>0.751585</td>\n",
       "    </tr>\n",
       "    <tr>\n",
       "      <th>1</th>\n",
       "      <td>Vedant Upadhyay</td>\n",
       "      <td>2081</td>\n",
       "      <td>[0.15035063, 0.26126587, 0.65102637, 1.3130103...</td>\n",
       "      <td>0.777796</td>\n",
       "    </tr>\n",
       "  </tbody>\n",
       "</table>\n",
       "</div>"
      ],
      "text/plain": [
       "              Name  Roll                                    Facial Features  \\\n",
       "0  Vedant Upadhyay  2081  [1.2258575, -0.52781576, 0.51487553, 1.1033506...   \n",
       "1  Vedant Upadhyay  2081  [0.15035063, 0.26126587, 0.65102637, 1.3130103...   \n",
       "\n",
       "     cosine  \n",
       "0  0.751585  \n",
       "1  0.777796  "
      ]
     },
     "execution_count": 17,
     "metadata": {},
     "output_type": "execute_result"
    }
   ],
   "source": [
    "datafilter"
   ]
  },
  {
   "cell_type": "code",
   "execution_count": 18,
   "id": "3c75607f",
   "metadata": {},
   "outputs": [],
   "source": [
    "def ml_search_algorithm(dataframe,feature_column,test_vector,name_roll=['Name','Roll'],thresh=0.5):\n",
    "    #step-1: take the dataframe(collection of data)\n",
    "    dataframe=dataframe.copy()\n",
    "    #step-2: Index face embeding from the dataframe\n",
    "    x_list=dataframe[feature_column].tolist()\n",
    "    x=np.asarray(x_list)\n",
    "    #step-3: Calculate cosine similarity\n",
    "    similar=pairwise.cosine_similarity(x,test_vector.reshape(1,-1))\n",
    "    similar_arr=np.array(similar).flatten()\n",
    "    dataframe['cosine']=similar_arr\n",
    "    #step-4: filter the data\n",
    "    data_filter=dataframe.query(f'cosine>={thresh}')\n",
    "    if len(data_filter)>0:\n",
    "        #step-5: get the person name\n",
    "        data_filter.reset_index(drop=True,inplace=True)\n",
    "        argmax=data_filter['cosine'].argmax()\n",
    "        person_name,person_role=data_filter.loc[argmax][name_roll]\n",
    "    else:\n",
    "        person_name='Unknown'\n",
    "        person_role='Unknown'\n",
    "\n",
    "    return person_name,person_role\n",
    "    "
   ]
  },
  {
   "cell_type": "code",
   "execution_count": 23,
   "id": "09e649b1",
   "metadata": {},
   "outputs": [],
   "source": [
    "test_image=cv2.imread('test_images/test5.jpg')\n",
    "cv2.imshow('test image',test_image)\n",
    "cv2.waitKey(0)\n",
    "cv2.destroyAllWindows()"
   ]
  },
  {
   "cell_type": "code",
   "execution_count": 24,
   "id": "73663669",
   "metadata": {},
   "outputs": [
    {
     "name": "stderr",
     "output_type": "stream",
     "text": [
      "c:\\python 310\\lib\\site-packages\\insightface\\utils\\transform.py:68: FutureWarning: `rcond` parameter will change to the default of machine precision times ``max(M, N)`` where M and N are the input matrix dimensions.\n",
      "To use the future default and silence this warning we advise to pass `rcond=None`, to keep using the old, explicitly pass `rcond=-1`.\n",
      "  P = np.linalg.lstsq(X_homo, Y)[0].T # Affine matrix. 3 x 4\n"
     ]
    },
    {
     "data": {
      "text/plain": [
       "['Aditya Kshitiz',\n",
       " 'Aadish Jain',\n",
       " 'Siddhesh Nitin',\n",
       " 'Prince Kumar',\n",
       " 'Aravapalli Pavan Kumar',\n",
       " 'Aditya Yadav',\n",
       " 'Aditi Wekhande',\n",
       " 'Misha Jain',\n",
       " 'Aditya Mastud',\n",
       " 'Deepak Yadav',\n",
       " 'Sai Sanjana',\n",
       " 'Amit Tiwari',\n",
       " 'Vineet Verma',\n",
       " 'Votte Sriyans']"
      ]
     },
     "execution_count": 24,
     "metadata": {},
     "output_type": "execute_result"
    }
   ],
   "source": [
    "#step-1: take the test image and apply to insight face\n",
    "results=faceapp.get(test_image)\n",
    "test_copy=test_image.copy()\n",
    "xyz=[]\n",
    "#step-2: use for loop and extract each embedding and pass to ml_search_algorithm\n",
    "\n",
    "for res in results:\n",
    "    x1,y1,x2,y2=res['bbox'].astype(int)\n",
    "    embeddings=res['embedding']\n",
    "    person_name,person_roll=ml_search_algorithm(dataframe,'Facial Features',test_vector=embeddings,name_roll=['Name','Roll'],thresh=0.5)\n",
    "    cv2.rectangle(test_copy,(x1,y1),(x2,y2),(0,255,0))\n",
    "    text_gen=person_name\n",
    "    if person_name=='Unknown':\n",
    "        cv2.putText(test_copy,text_gen,(x1,y1),cv2.FONT_HERSHEY_DUPLEX,0.35,(0,0,255),1)\n",
    "    else:\n",
    "        cv2.putText(test_copy,text_gen,(x1,y1),cv2.FONT_HERSHEY_DUPLEX,0.35,(0,255,0),1)\n",
    "        xyz.append(text_gen)\n",
    "cv2.imshow('test image',test_copy)\n",
    "cv2.waitKey()\n",
    "cv2.destroyAllWindows()\n"
   ]
  },
  {
   "cell_type": "code",
   "execution_count": 27,
   "metadata": {},
   "outputs": [
    {
     "data": {
      "text/html": [
       "<div>\n",
       "<style scoped>\n",
       "    .dataframe tbody tr th:only-of-type {\n",
       "        vertical-align: middle;\n",
       "    }\n",
       "\n",
       "    .dataframe tbody tr th {\n",
       "        vertical-align: top;\n",
       "    }\n",
       "\n",
       "    .dataframe thead th {\n",
       "        text-align: right;\n",
       "    }\n",
       "</style>\n",
       "<table border=\"1\" class=\"dataframe\">\n",
       "  <thead>\n",
       "    <tr style=\"text-align: right;\">\n",
       "      <th></th>\n",
       "      <th>Name</th>\n",
       "      <th>Roll</th>\n",
       "      <th>att</th>\n",
       "    </tr>\n",
       "  </thead>\n",
       "  <tbody>\n",
       "    <tr>\n",
       "      <th>0</th>\n",
       "      <td>Aadish Jain</td>\n",
       "      <td>1001</td>\n",
       "      <td>1</td>\n",
       "    </tr>\n",
       "    <tr>\n",
       "      <th>1</th>\n",
       "      <td>Abhinav Gangil</td>\n",
       "      <td>1002</td>\n",
       "      <td>0</td>\n",
       "    </tr>\n",
       "    <tr>\n",
       "      <th>2</th>\n",
       "      <td>Aditi Wekhande</td>\n",
       "      <td>1003</td>\n",
       "      <td>1</td>\n",
       "    </tr>\n",
       "    <tr>\n",
       "      <th>3</th>\n",
       "      <td>Aditi Wekhande</td>\n",
       "      <td>1003</td>\n",
       "      <td>1</td>\n",
       "    </tr>\n",
       "    <tr>\n",
       "      <th>4</th>\n",
       "      <td>Aditya Kshitiz</td>\n",
       "      <td>1004</td>\n",
       "      <td>1</td>\n",
       "    </tr>\n",
       "    <tr>\n",
       "      <th>...</th>\n",
       "      <td>...</td>\n",
       "      <td>...</td>\n",
       "      <td>...</td>\n",
       "    </tr>\n",
       "    <tr>\n",
       "      <th>118</th>\n",
       "      <td>Borra Gnana</td>\n",
       "      <td>2029</td>\n",
       "      <td>0</td>\n",
       "    </tr>\n",
       "    <tr>\n",
       "      <th>119</th>\n",
       "      <td>Prasad Akanksha</td>\n",
       "      <td>2063</td>\n",
       "      <td>0</td>\n",
       "    </tr>\n",
       "    <tr>\n",
       "      <th>120</th>\n",
       "      <td>Prasad Akanksha</td>\n",
       "      <td>2063</td>\n",
       "      <td>0</td>\n",
       "    </tr>\n",
       "    <tr>\n",
       "      <th>121</th>\n",
       "      <td>Vedant Upadhyay</td>\n",
       "      <td>2081</td>\n",
       "      <td>0</td>\n",
       "    </tr>\n",
       "    <tr>\n",
       "      <th>122</th>\n",
       "      <td>Vedant Upadhyay</td>\n",
       "      <td>2081</td>\n",
       "      <td>0</td>\n",
       "    </tr>\n",
       "  </tbody>\n",
       "</table>\n",
       "<p>123 rows × 3 columns</p>\n",
       "</div>"
      ],
      "text/plain": [
       "                Name  Roll  att\n",
       "0        Aadish Jain  1001    1\n",
       "1     Abhinav Gangil  1002    0\n",
       "2     Aditi Wekhande  1003    1\n",
       "3     Aditi Wekhande  1003    1\n",
       "4     Aditya Kshitiz  1004    1\n",
       "..               ...   ...  ...\n",
       "118      Borra Gnana  2029    0\n",
       "119  Prasad Akanksha  2063    0\n",
       "120  Prasad Akanksha  2063    0\n",
       "121  Vedant Upadhyay  2081    0\n",
       "122  Vedant Upadhyay  2081    0\n",
       "\n",
       "[123 rows x 3 columns]"
      ]
     },
     "execution_count": 27,
     "metadata": {},
     "output_type": "execute_result"
    }
   ],
   "source": [
    "# www=dataframe.copy()\n",
    "# www\n",
    "# www = www.drop(columns=['Facial Features'])\n",
    "# att=[]\n",
    "# for item in www['Name']:\n",
    "#     if(item in xyz):\n",
    "#         att.append(1)\n",
    "#     else:\n",
    "#         att.append(0)\n",
    "# www['att']=att\n",
    "# www"
   ]
  },
  {
   "cell_type": "code",
   "execution_count": 44,
   "id": "f24dced6",
   "metadata": {},
   "outputs": [],
   "source": [
    "#compressing dataframe"
   ]
  },
  {
   "cell_type": "code",
   "execution_count": 28,
   "id": "b997f37b",
   "metadata": {},
   "outputs": [
    {
     "data": {
      "text/html": [
       "<div>\n",
       "<style scoped>\n",
       "    .dataframe tbody tr th:only-of-type {\n",
       "        vertical-align: middle;\n",
       "    }\n",
       "\n",
       "    .dataframe tbody tr th {\n",
       "        vertical-align: top;\n",
       "    }\n",
       "\n",
       "    .dataframe thead th {\n",
       "        text-align: right;\n",
       "    }\n",
       "</style>\n",
       "<table border=\"1\" class=\"dataframe\">\n",
       "  <thead>\n",
       "    <tr style=\"text-align: right;\">\n",
       "      <th></th>\n",
       "      <th>Name</th>\n",
       "      <th>Roll</th>\n",
       "      <th>Facial Features</th>\n",
       "    </tr>\n",
       "  </thead>\n",
       "  <tbody>\n",
       "    <tr>\n",
       "      <th>0</th>\n",
       "      <td>Aadish Jain</td>\n",
       "      <td>1001</td>\n",
       "      <td>[1.4249021, 0.5167993, 1.1065452, -0.39924377,...</td>\n",
       "    </tr>\n",
       "    <tr>\n",
       "      <th>1</th>\n",
       "      <td>Abhinav Gangil</td>\n",
       "      <td>1002</td>\n",
       "      <td>[2.5445485, 1.1459275, -0.2571401, -0.9233791,...</td>\n",
       "    </tr>\n",
       "    <tr>\n",
       "      <th>2</th>\n",
       "      <td>Aditi Wekhande</td>\n",
       "      <td>1003</td>\n",
       "      <td>[-0.15211493, 0.6594273, 0.94268084, 1.4843241...</td>\n",
       "    </tr>\n",
       "    <tr>\n",
       "      <th>3</th>\n",
       "      <td>Aditya Kshitiz</td>\n",
       "      <td>1004</td>\n",
       "      <td>[1.6784743, 0.84842515, 0.44553462, -0.7783499...</td>\n",
       "    </tr>\n",
       "    <tr>\n",
       "      <th>4</th>\n",
       "      <td>Aditya Mastud</td>\n",
       "      <td>1005</td>\n",
       "      <td>[-0.4629953, -0.071729705, -0.083244145, -0.42...</td>\n",
       "    </tr>\n",
       "    <tr>\n",
       "      <th>...</th>\n",
       "      <td>...</td>\n",
       "      <td>...</td>\n",
       "      <td>...</td>\n",
       "    </tr>\n",
       "    <tr>\n",
       "      <th>75</th>\n",
       "      <td>Vedant Upadhyay</td>\n",
       "      <td>2081</td>\n",
       "      <td>[0.68810403, -0.13327494, 0.58295095, 1.208180...</td>\n",
       "    </tr>\n",
       "    <tr>\n",
       "      <th>76</th>\n",
       "      <td>Vijit Balsori</td>\n",
       "      <td>1079</td>\n",
       "      <td>[0.83771884, 1.1717737, 0.025990069, -0.092498...</td>\n",
       "    </tr>\n",
       "    <tr>\n",
       "      <th>77</th>\n",
       "      <td>Vineet Verma</td>\n",
       "      <td>1080</td>\n",
       "      <td>[1.4692615, 2.0162005, 0.15505144, 0.8998549, ...</td>\n",
       "    </tr>\n",
       "    <tr>\n",
       "      <th>78</th>\n",
       "      <td>Votte Sriyans</td>\n",
       "      <td>1081</td>\n",
       "      <td>[0.6702863, -0.64987075, -0.3088921, 1.2300224...</td>\n",
       "    </tr>\n",
       "    <tr>\n",
       "      <th>79</th>\n",
       "      <td>Yannam Yeshwant</td>\n",
       "      <td>1082</td>\n",
       "      <td>[0.12396374, 0.18740891, 0.47579968, 0.3388660...</td>\n",
       "    </tr>\n",
       "  </tbody>\n",
       "</table>\n",
       "<p>80 rows × 3 columns</p>\n",
       "</div>"
      ],
      "text/plain": [
       "               Name  Roll                                    Facial Features\n",
       "0       Aadish Jain  1001  [1.4249021, 0.5167993, 1.1065452, -0.39924377,...\n",
       "1    Abhinav Gangil  1002  [2.5445485, 1.1459275, -0.2571401, -0.9233791,...\n",
       "2    Aditi Wekhande  1003  [-0.15211493, 0.6594273, 0.94268084, 1.4843241...\n",
       "3    Aditya Kshitiz  1004  [1.6784743, 0.84842515, 0.44553462, -0.7783499...\n",
       "4     Aditya Mastud  1005  [-0.4629953, -0.071729705, -0.083244145, -0.42...\n",
       "..              ...   ...                                                ...\n",
       "75  Vedant Upadhyay  2081  [0.68810403, -0.13327494, 0.58295095, 1.208180...\n",
       "76    Vijit Balsori  1079  [0.83771884, 1.1717737, 0.025990069, -0.092498...\n",
       "77     Vineet Verma  1080  [1.4692615, 2.0162005, 0.15505144, 0.8998549, ...\n",
       "78    Votte Sriyans  1081  [0.6702863, -0.64987075, -0.3088921, 1.2300224...\n",
       "79  Yannam Yeshwant  1082  [0.12396374, 0.18740891, 0.47579968, 0.3388660...\n",
       "\n",
       "[80 rows x 3 columns]"
      ]
     },
     "execution_count": 28,
     "metadata": {},
     "output_type": "execute_result"
    }
   ],
   "source": [
    "dataframe_compress=dataframe.groupby(by=['Name','Roll']).mean()\n",
    "dataframe_compress.reset_index(inplace=True)\n",
    "dataframe_compress"
   ]
  },
  {
   "cell_type": "code",
   "execution_count": 29,
   "id": "7261825f",
   "metadata": {},
   "outputs": [],
   "source": [
    "### convert dataframe into array and save into numpy zip format"
   ]
  },
  {
   "cell_type": "code",
   "execution_count": 30,
   "id": "2739e576",
   "metadata": {},
   "outputs": [],
   "source": [
    "xvalues=dataframe_compress.values"
   ]
  },
  {
   "cell_type": "code",
   "execution_count": 31,
   "id": "037f6a5c",
   "metadata": {},
   "outputs": [
    {
     "data": {
      "text/plain": [
       "array(['Name', 'Roll', 'Facial Features'], dtype=object)"
      ]
     },
     "execution_count": 31,
     "metadata": {},
     "output_type": "execute_result"
    }
   ],
   "source": [
    "col_name=np.array(dataframe_compress.columns)\n",
    "col_name"
   ]
  },
  {
   "cell_type": "code",
   "execution_count": 32,
   "id": "cc29ab0c",
   "metadata": {},
   "outputs": [],
   "source": [
    "np.savez('dataframe_students.npz',xvalues,col_name)"
   ]
  },
  {
   "cell_type": "code",
   "execution_count": 33,
   "id": "785dbbcf",
   "metadata": {},
   "outputs": [
    {
     "data": {
      "text/plain": [
       "['arr_0', 'arr_1']"
      ]
     },
     "execution_count": 33,
     "metadata": {},
     "output_type": "execute_result"
    }
   ],
   "source": [
    "# load the numpy zip\n",
    "file_np=np.load('dataframe_students.npz',xvalues,col_name)\n",
    "file_np.files"
   ]
  }
 ],
 "metadata": {
  "kernelspec": {
   "display_name": "Python 3 (ipykernel)",
   "language": "python",
   "name": "python3"
  },
  "language_info": {
   "codemirror_mode": {
    "name": "ipython",
    "version": 3
   },
   "file_extension": ".py",
   "mimetype": "text/x-python",
   "name": "python",
   "nbconvert_exporter": "python",
   "pygments_lexer": "ipython3",
   "version": "3.10.7"
  }
 },
 "nbformat": 4,
 "nbformat_minor": 5
}
